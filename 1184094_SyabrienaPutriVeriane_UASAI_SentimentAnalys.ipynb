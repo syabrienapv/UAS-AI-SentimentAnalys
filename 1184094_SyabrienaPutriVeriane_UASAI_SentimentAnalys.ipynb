{
  "nbformat": 4,
  "nbformat_minor": 0,
  "metadata": {
    "colab": {
      "name": "sentiment.ipynb",
      "provenance": []
    },
    "kernelspec": {
      "name": "python3",
      "display_name": "Python 3"
    },
    "language_info": {
      "name": "python"
    }
  },
  "cells": [
    {
      "cell_type": "markdown",
      "metadata": {
        "id": "6fGeWipqO8Ik"
      },
      "source": [
        "Install library googletrans"
      ]
    },
    {
      "cell_type": "code",
      "metadata": {
        "colab": {
          "base_uri": "https://localhost:8080/"
        },
        "id": "hHjijzcxN5R1",
        "outputId": "08112407-ae84-4c4f-b8b1-0cf1c72fb6d4"
      },
      "source": [
        "!pip install googletrans==3.1.0a0\n"
      ],
      "execution_count": 31,
      "outputs": [
        {
          "output_type": "stream",
          "text": [
            "Requirement already satisfied: googletrans==3.1.0a0 in /usr/local/lib/python3.7/dist-packages (3.1.0a0)\n",
            "Requirement already satisfied: httpx==0.13.3 in /usr/local/lib/python3.7/dist-packages (from googletrans==3.1.0a0) (0.13.3)\n",
            "Requirement already satisfied: hstspreload in /usr/local/lib/python3.7/dist-packages (from httpx==0.13.3->googletrans==3.1.0a0) (2021.7.5)\n",
            "Requirement already satisfied: idna==2.* in /usr/local/lib/python3.7/dist-packages (from httpx==0.13.3->googletrans==3.1.0a0) (2.10)\n",
            "Requirement already satisfied: httpcore==0.9.* in /usr/local/lib/python3.7/dist-packages (from httpx==0.13.3->googletrans==3.1.0a0) (0.9.1)\n",
            "Requirement already satisfied: certifi in /usr/local/lib/python3.7/dist-packages (from httpx==0.13.3->googletrans==3.1.0a0) (2021.5.30)\n",
            "Requirement already satisfied: rfc3986<2,>=1.3 in /usr/local/lib/python3.7/dist-packages (from httpx==0.13.3->googletrans==3.1.0a0) (1.5.0)\n",
            "Requirement already satisfied: chardet==3.* in /usr/local/lib/python3.7/dist-packages (from httpx==0.13.3->googletrans==3.1.0a0) (3.0.4)\n",
            "Requirement already satisfied: sniffio in /usr/local/lib/python3.7/dist-packages (from httpx==0.13.3->googletrans==3.1.0a0) (1.2.0)\n",
            "Requirement already satisfied: h11<0.10,>=0.8 in /usr/local/lib/python3.7/dist-packages (from httpcore==0.9.*->httpx==0.13.3->googletrans==3.1.0a0) (0.9.0)\n",
            "Requirement already satisfied: h2==3.* in /usr/local/lib/python3.7/dist-packages (from httpcore==0.9.*->httpx==0.13.3->googletrans==3.1.0a0) (3.2.0)\n",
            "Requirement already satisfied: hyperframe<6,>=5.2.0 in /usr/local/lib/python3.7/dist-packages (from h2==3.*->httpcore==0.9.*->httpx==0.13.3->googletrans==3.1.0a0) (5.2.0)\n",
            "Requirement already satisfied: hpack<4,>=3.0 in /usr/local/lib/python3.7/dist-packages (from h2==3.*->httpcore==0.9.*->httpx==0.13.3->googletrans==3.1.0a0) (3.0.0)\n"
          ],
          "name": "stdout"
        }
      ]
    },
    {
      "cell_type": "markdown",
      "metadata": {
        "id": "h59FKcOyPEUc"
      },
      "source": [
        "Import library yang dibutuhkan"
      ]
    },
    {
      "cell_type": "code",
      "metadata": {
        "id": "AU9Cu4Y7EEzR"
      },
      "source": [
        "from textblob import TextBlob\n",
        "import pandas as pd\n",
        "from googletrans import Translator, constants\n",
        "from pprint import pprint"
      ],
      "execution_count": 32,
      "outputs": []
    },
    {
      "cell_type": "markdown",
      "metadata": {
        "id": "8WpGMpQvPG6m"
      },
      "source": [
        "Masuk ke google drive"
      ]
    },
    {
      "cell_type": "code",
      "metadata": {
        "colab": {
          "base_uri": "https://localhost:8080/"
        },
        "id": "jWbhVsggEMCo",
        "outputId": "05fb7f5a-e2b2-4d61-f0f9-76f521a26a37"
      },
      "source": [
        "# Mount Drive\n",
        "from google.colab import drive\n",
        "masuk = drive.mount('/content/drive/')\n",
        "dataset_path = '/content/drive/MyDrive/Colab Notebooks/dataset/laz.csv'\n",
        "\n",
        "masuk"
      ],
      "execution_count": 33,
      "outputs": [
        {
          "output_type": "stream",
          "text": [
            "Drive already mounted at /content/drive/; to attempt to forcibly remount, call drive.mount(\"/content/drive/\", force_remount=True).\n"
          ],
          "name": "stdout"
        }
      ]
    },
    {
      "cell_type": "markdown",
      "metadata": {
        "id": "bMEOjItePJxM"
      },
      "source": [
        "Load dataset"
      ]
    },
    {
      "cell_type": "code",
      "metadata": {
        "id": "4GeIWCIsGN6g"
      },
      "source": [
        "d = pd.read_csv(dataset_path, sep=',')"
      ],
      "execution_count": 34,
      "outputs": []
    },
    {
      "cell_type": "markdown",
      "metadata": {
        "id": "NORnUjVuPMGK"
      },
      "source": [
        "tampilkan dataset"
      ]
    },
    {
      "cell_type": "code",
      "metadata": {
        "colab": {
          "base_uri": "https://localhost:8080/",
          "height": 823
        },
        "id": "GD1ynyKfG4uS",
        "outputId": "4bf5a6c2-d0ca-4a51-ad3b-5a4967828c4a"
      },
      "source": [
        "d"
      ],
      "execution_count": 35,
      "outputs": [
        {
          "output_type": "execute_result",
          "data": {
            "text/html": [
              "<div>\n",
              "<style scoped>\n",
              "    .dataframe tbody tr th:only-of-type {\n",
              "        vertical-align: middle;\n",
              "    }\n",
              "\n",
              "    .dataframe tbody tr th {\n",
              "        vertical-align: top;\n",
              "    }\n",
              "\n",
              "    .dataframe thead th {\n",
              "        text-align: right;\n",
              "    }\n",
              "</style>\n",
              "<table border=\"1\" class=\"dataframe\">\n",
              "  <thead>\n",
              "    <tr style=\"text-align: right;\">\n",
              "      <th></th>\n",
              "      <th>itemId</th>\n",
              "      <th>category</th>\n",
              "      <th>name</th>\n",
              "      <th>rating</th>\n",
              "      <th>originalRating</th>\n",
              "      <th>reviewTitle</th>\n",
              "      <th>reviewContent</th>\n",
              "      <th>likeCount</th>\n",
              "      <th>upVotes</th>\n",
              "      <th>downVotes</th>\n",
              "      <th>helpful</th>\n",
              "      <th>relevanceScore</th>\n",
              "      <th>boughtDate</th>\n",
              "      <th>clientType</th>\n",
              "      <th>retrievedDate</th>\n",
              "    </tr>\n",
              "  </thead>\n",
              "  <tbody>\n",
              "    <tr>\n",
              "      <th>0</th>\n",
              "      <td>100002528</td>\n",
              "      <td>beli-harddisk-eksternal</td>\n",
              "      <td>Kamal U.</td>\n",
              "      <td>5</td>\n",
              "      <td>NaN</td>\n",
              "      <td>NaN</td>\n",
              "      <td>bagus  mantap dah sesui pesanan</td>\n",
              "      <td>0</td>\n",
              "      <td>0</td>\n",
              "      <td>0</td>\n",
              "      <td>True</td>\n",
              "      <td>26.51</td>\n",
              "      <td>09 Apr 2019</td>\n",
              "      <td>androidApp</td>\n",
              "      <td>2019-10-02</td>\n",
              "    </tr>\n",
              "    <tr>\n",
              "      <th>1</th>\n",
              "      <td>100002528</td>\n",
              "      <td>beli-harddisk-eksternal</td>\n",
              "      <td>yofanca m.</td>\n",
              "      <td>4</td>\n",
              "      <td>NaN</td>\n",
              "      <td>NaN</td>\n",
              "      <td>Bagus, sesuai foto</td>\n",
              "      <td>0</td>\n",
              "      <td>0</td>\n",
              "      <td>0</td>\n",
              "      <td>True</td>\n",
              "      <td>22.49</td>\n",
              "      <td>24 Sep 2017</td>\n",
              "      <td>androidApp</td>\n",
              "      <td>2019-10-02</td>\n",
              "    </tr>\n",
              "    <tr>\n",
              "      <th>2</th>\n",
              "      <td>100002528</td>\n",
              "      <td>beli-harddisk-eksternal</td>\n",
              "      <td>Lazada Customer</td>\n",
              "      <td>5</td>\n",
              "      <td>NaN</td>\n",
              "      <td>ok mantaaapppp barang sesuai pesanan.. good</td>\n",
              "      <td>okkkkk mantaaaaaaapppp ... goood</td>\n",
              "      <td>0</td>\n",
              "      <td>0</td>\n",
              "      <td>0</td>\n",
              "      <td>True</td>\n",
              "      <td>21.50</td>\n",
              "      <td>04 Apr 2018</td>\n",
              "      <td>androidApp</td>\n",
              "      <td>2019-10-02</td>\n",
              "    </tr>\n",
              "    <tr>\n",
              "      <th>3</th>\n",
              "      <td>100002528</td>\n",
              "      <td>beli-harddisk-eksternal</td>\n",
              "      <td>Lazada Customer</td>\n",
              "      <td>4</td>\n",
              "      <td>NaN</td>\n",
              "      <td>NaN</td>\n",
              "      <td>bagus sesuai</td>\n",
              "      <td>0</td>\n",
              "      <td>0</td>\n",
              "      <td>0</td>\n",
              "      <td>True</td>\n",
              "      <td>20.51</td>\n",
              "      <td>22 Sep 2017</td>\n",
              "      <td>androidApp</td>\n",
              "      <td>2019-10-02</td>\n",
              "    </tr>\n",
              "    <tr>\n",
              "      <th>4</th>\n",
              "      <td>100002528</td>\n",
              "      <td>beli-harddisk-eksternal</td>\n",
              "      <td>Yosep M.</td>\n",
              "      <td>5</td>\n",
              "      <td>NaN</td>\n",
              "      <td>NaN</td>\n",
              "      <td>NaN</td>\n",
              "      <td>0</td>\n",
              "      <td>0</td>\n",
              "      <td>0</td>\n",
              "      <td>True</td>\n",
              "      <td>16.01</td>\n",
              "      <td>17 Agu 2018</td>\n",
              "      <td>androidApp</td>\n",
              "      <td>2019-10-02</td>\n",
              "    </tr>\n",
              "    <tr>\n",
              "      <th>...</th>\n",
              "      <td>...</td>\n",
              "      <td>...</td>\n",
              "      <td>...</td>\n",
              "      <td>...</td>\n",
              "      <td>...</td>\n",
              "      <td>...</td>\n",
              "      <td>...</td>\n",
              "      <td>...</td>\n",
              "      <td>...</td>\n",
              "      <td>...</td>\n",
              "      <td>...</td>\n",
              "      <td>...</td>\n",
              "      <td>...</td>\n",
              "      <td>...</td>\n",
              "      <td>...</td>\n",
              "    </tr>\n",
              "    <tr>\n",
              "      <th>203782</th>\n",
              "      <td>9467899</td>\n",
              "      <td>shop-televisi-digital</td>\n",
              "      <td>Isharyanto S.</td>\n",
              "      <td>5</td>\n",
              "      <td>NaN</td>\n",
              "      <td>murah</td>\n",
              "      <td>barang bagus dengan harga kompetitif</td>\n",
              "      <td>6</td>\n",
              "      <td>6</td>\n",
              "      <td>0</td>\n",
              "      <td>True</td>\n",
              "      <td>24.63</td>\n",
              "      <td>22 Nov 2016</td>\n",
              "      <td>desktop</td>\n",
              "      <td>2019-10-02</td>\n",
              "    </tr>\n",
              "    <tr>\n",
              "      <th>203783</th>\n",
              "      <td>9467899</td>\n",
              "      <td>shop-televisi-digital</td>\n",
              "      <td>FIRLY B.</td>\n",
              "      <td>3</td>\n",
              "      <td>NaN</td>\n",
              "      <td>barang bagus dan sesuai pesanan</td>\n",
              "      <td>NaN</td>\n",
              "      <td>0</td>\n",
              "      <td>0</td>\n",
              "      <td>0</td>\n",
              "      <td>True</td>\n",
              "      <td>14.01</td>\n",
              "      <td>10 Apr 2018</td>\n",
              "      <td>androidApp</td>\n",
              "      <td>2019-10-02</td>\n",
              "    </tr>\n",
              "    <tr>\n",
              "      <th>203784</th>\n",
              "      <td>9548087</td>\n",
              "      <td>shop-televisi-digital</td>\n",
              "      <td>soni s.</td>\n",
              "      <td>5</td>\n",
              "      <td>NaN</td>\n",
              "      <td>NaN</td>\n",
              "      <td>NaN</td>\n",
              "      <td>0</td>\n",
              "      <td>0</td>\n",
              "      <td>0</td>\n",
              "      <td>True</td>\n",
              "      <td>15.63</td>\n",
              "      <td>04 Jan 2018</td>\n",
              "      <td>androidApp</td>\n",
              "      <td>2019-10-02</td>\n",
              "    </tr>\n",
              "    <tr>\n",
              "      <th>203785</th>\n",
              "      <td>9548767</td>\n",
              "      <td>shop-televisi-digital</td>\n",
              "      <td>Saidhusin H.</td>\n",
              "      <td>3</td>\n",
              "      <td>NaN</td>\n",
              "      <td>AKARI LED TV</td>\n",
              "      <td>Ok.thank lazada Pagi order sore barang nyampe ...</td>\n",
              "      <td>0</td>\n",
              "      <td>0</td>\n",
              "      <td>0</td>\n",
              "      <td>True</td>\n",
              "      <td>19.48</td>\n",
              "      <td>15 Nov 2016</td>\n",
              "      <td>mobile-app</td>\n",
              "      <td>2019-10-02</td>\n",
              "    </tr>\n",
              "    <tr>\n",
              "      <th>203786</th>\n",
              "      <td>9548767</td>\n",
              "      <td>shop-televisi-digital</td>\n",
              "      <td>Vivan Y.</td>\n",
              "      <td>5</td>\n",
              "      <td>NaN</td>\n",
              "      <td>TOP DAH</td>\n",
              "      <td>semua fitur berfungsi,harganya cukup murah. AK...</td>\n",
              "      <td>0</td>\n",
              "      <td>0</td>\n",
              "      <td>0</td>\n",
              "      <td>True</td>\n",
              "      <td>9.50</td>\n",
              "      <td>NaN</td>\n",
              "      <td>mobile-app</td>\n",
              "      <td>2019-10-02</td>\n",
              "    </tr>\n",
              "  </tbody>\n",
              "</table>\n",
              "<p>203787 rows × 15 columns</p>\n",
              "</div>"
            ],
            "text/plain": [
              "           itemId                 category  ...  clientType  retrievedDate\n",
              "0       100002528  beli-harddisk-eksternal  ...  androidApp     2019-10-02\n",
              "1       100002528  beli-harddisk-eksternal  ...  androidApp     2019-10-02\n",
              "2       100002528  beli-harddisk-eksternal  ...  androidApp     2019-10-02\n",
              "3       100002528  beli-harddisk-eksternal  ...  androidApp     2019-10-02\n",
              "4       100002528  beli-harddisk-eksternal  ...  androidApp     2019-10-02\n",
              "...           ...                      ...  ...         ...            ...\n",
              "203782    9467899    shop-televisi-digital  ...     desktop     2019-10-02\n",
              "203783    9467899    shop-televisi-digital  ...  androidApp     2019-10-02\n",
              "203784    9548087    shop-televisi-digital  ...  androidApp     2019-10-02\n",
              "203785    9548767    shop-televisi-digital  ...  mobile-app     2019-10-02\n",
              "203786    9548767    shop-televisi-digital  ...  mobile-app     2019-10-02\n",
              "\n",
              "[203787 rows x 15 columns]"
            ]
          },
          "metadata": {
            "tags": []
          },
          "execution_count": 35
        }
      ]
    },
    {
      "cell_type": "markdown",
      "metadata": {
        "id": "pMWboYq_PQ2U"
      },
      "source": [
        "ambil satu attribut dari dataset"
      ]
    },
    {
      "cell_type": "code",
      "metadata": {
        "id": "tpukWFTOKWfL"
      },
      "source": [
        "d = d['reviewContent']"
      ],
      "execution_count": 36,
      "outputs": []
    },
    {
      "cell_type": "markdown",
      "metadata": {
        "id": "3kSunmpQPU8q"
      },
      "source": [
        "Translate salah satu review untuk dibandingkan"
      ]
    },
    {
      "cell_type": "code",
      "metadata": {
        "id": "7yfy8AweOAJ8"
      },
      "source": [
        "translator = Translator()\n",
        "translation = translator.translate(d[3]).text"
      ],
      "execution_count": 37,
      "outputs": []
    },
    {
      "cell_type": "markdown",
      "metadata": {
        "id": "Bey_FCA5Pba9"
      },
      "source": [
        "Analisis Polaritas kalimatnya"
      ]
    },
    {
      "cell_type": "code",
      "metadata": {
        "id": "Ky90Cx5uI03r"
      },
      "source": [
        "analysis = TextBlob(translation)"
      ],
      "execution_count": 38,
      "outputs": []
    },
    {
      "cell_type": "code",
      "metadata": {
        "colab": {
          "base_uri": "https://localhost:8080/"
        },
        "id": "_z0GTPR4KcVN",
        "outputId": "93ac3c58-e901-4628-dd2b-58d6fc94c7ed"
      },
      "source": [
        "hasil = analysis.sentiment.polarity\n",
        "hasil"
      ],
      "execution_count": 39,
      "outputs": [
        {
          "output_type": "execute_result",
          "data": {
            "text/plain": [
              "0.5"
            ]
          },
          "metadata": {
            "tags": []
          },
          "execution_count": 39
        }
      ]
    },
    {
      "cell_type": "markdown",
      "metadata": {
        "id": "Tqtvm58RPe1c"
      },
      "source": [
        "Hasil akhir. Jika polaritas > 0 maka kalimatnya positif, jika polaritas < 0 maka kalimatnya negatif"
      ]
    },
    {
      "cell_type": "code",
      "metadata": {
        "colab": {
          "base_uri": "https://localhost:8080/"
        },
        "id": "nmaPhJgqG5Jh",
        "outputId": "4c5c3cd4-d476-462e-c41c-de0805abdff6"
      },
      "source": [
        "if hasil >= 0:\n",
        "  print('positif')\n",
        "else:\n",
        "  print('negatif')"
      ],
      "execution_count": 40,
      "outputs": [
        {
          "output_type": "stream",
          "text": [
            "positif\n"
          ],
          "name": "stdout"
        }
      ]
    }
  ]
}